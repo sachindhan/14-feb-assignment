{
 "cells": [
  {
   "cell_type": "raw",
   "id": "423ea771-a8eb-473a-b601-6e524378da15",
   "metadata": {},
   "source": [
    "Q 1 . \n",
    "ans 1 . The threading module is a high-level implementation of multithreading used to deploy an application in Python. To use multithreading, we need to import the threading module in Python Program. A start() method is used to initiate the activity of a thread.\n"
   ]
  },
  {
   "cell_type": "raw",
   "id": "632cdf69-18c5-4274-9bf2-729ae74a4de0",
   "metadata": {},
   "source": [
    "Q2.\n",
    "ans 2 . Threading module is used for creating, controlling and managing threads in python. \n",
    "\n",
    "    threading.activeCount() − Returns the number of thread objects that are active. \n",
    "    threading.currentThread() − Returns the number of thread objects in the caller's thread control.\n",
    "    threading.enumerate() − Returns a list of all thread objects that are currently active."
   ]
  },
  {
   "cell_type": "markdown",
   "id": "38a32063-e09a-4038-989c-32a31ed7de96",
   "metadata": {},
   "source": [
    "Q3 .\n",
    "1) run()- To run Python scripts with the python command, you need to open a command-line and type in the word python , or python3 if you have both versions, followed           by the path to your script\n",
    "2) start() method is an inbuilt method of the Thread class of the threading module in Python\n",
    "3) The join() method takes all items in an iterable and joins them into one string.\n",
    "4) Thread.is_alive() method is an inbuilt method of the Thread class of the threading module in Python. It uses a Thread object, and checks whether that thread is alive or not, ie, it is still running or not. This method returns True before the run() starts until just after the run() method is executed."
   ]
  },
  {
   "cell_type": "raw",
   "id": "e7af171c-e889-492f-a4ca-cc696d85ed56",
   "metadata": {},
   "source": [
    "Q4. write a python program to create two threads. Thread one must print the list of squares and thread\n",
    "    two must print the list of cubes\n",
    "\n",
    "\n",
    "import threading\n",
    "\n",
    "def test(id) :\n",
    "    id = id**2 \n",
    "    print(\"print the list of squares %d\" %d)\n",
    "\n",
    "def test1(id) :\n",
    "    id = id**3\n",
    "    print(\"print the list of the cubes %d\" %d)\n",
    "    \n",
    "thred = [threading.Thread(target=test , agrs(i,)) for i in range(10)]\n",
    "thred1 = [threading.Thread(target= test1 , args(i,)) for i in range(10)]\n",
    "\n",
    "for t in thred :\n",
    "t.start()\n",
    "\n",
    "for t in thred1 :\n",
    "t.start()\n",
    "\n"
   ]
  },
  {
   "cell_type": "raw",
   "id": "fc5cd0c5-a9c8-4d42-987c-11f38047c49f",
   "metadata": {},
   "source": [
    "Q5. State advantages and disadvantages of multithreading ?\n",
    "Ans 5 .)\n",
    "adventages of threading\n",
    "\n",
    ">Enhanced performance by decreased development time\n",
    ">Simplified and streamlined program coding\n",
    ">Improvised GUI responsiveness\n",
    ">Simultaneous and parallelized occurrence of tasks\n",
    ">Better use of cache storage by utilization of resources\n",
    ">Decreased cost of maintenance\n",
    ">Better use of CPU resource\n",
    "\n",
    "disadvantages of threading\n",
    "\n",
    ">Complex debugging and testing processes\n",
    ">Overhead switching of context\n",
    ">Increased potential for deadlock occurrence\n",
    ">Increased difficulty level in writing a program\n",
    ">Unpredictable results"
   ]
  },
  {
   "cell_type": "raw",
   "id": "d2c0d8c8-c7a6-4e2b-aa2a-f1587b2eecf6",
   "metadata": {},
   "source": [
    "Q6. Explain deadlocks and race conditions ? \n",
    "Ans 6 .\n",
    "\n",
    "    A race condition occurs when two threads use the same variable at a given time. \n",
    "    Deadlock exists when two threads seek one lock simultaneously. This situation will stop both threads from processing or executing the functions."
   ]
  }
 ],
 "metadata": {
  "kernelspec": {
   "display_name": "Python 3 (ipykernel)",
   "language": "python",
   "name": "python3"
  },
  "language_info": {
   "codemirror_mode": {
    "name": "ipython",
    "version": 3
   },
   "file_extension": ".py",
   "mimetype": "text/x-python",
   "name": "python",
   "nbconvert_exporter": "python",
   "pygments_lexer": "ipython3",
   "version": "3.10.8"
  }
 },
 "nbformat": 4,
 "nbformat_minor": 5
}
